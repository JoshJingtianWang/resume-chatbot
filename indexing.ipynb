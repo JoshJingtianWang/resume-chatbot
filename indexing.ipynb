{
 "cells": [
  {
   "cell_type": "markdown",
   "metadata": {},
   "source": [
    "The notebook is a little messy but the core logic is present. Start from the \"load data\" section for indexing."
   ]
  },
  {
   "cell_type": "code",
   "execution_count": 476,
   "metadata": {},
   "outputs": [],
   "source": [
    "import streamlit as st\n",
    "api_key = st.secrets[\"openai_key\"]"
   ]
  },
  {
   "cell_type": "markdown",
   "metadata": {},
   "source": [
    "# check changes in files\n",
    "(we only want to load and process new files)"
   ]
  },
  {
   "cell_type": "code",
   "execution_count": 478,
   "metadata": {},
   "outputs": [],
   "source": [
    "import os\n",
    "import hashlib\n",
    "import pickle"
   ]
  },
  {
   "cell_type": "code",
   "execution_count": 540,
   "metadata": {},
   "outputs": [
    {
     "name": "stdout",
     "output_type": "stream",
     "text": [
      "📁 General\n",
      "    📄 Pictures.pdf\n",
      "    📄 resume.pdf\n",
      "    📄 Supplementary info for Josh Jingtian Wang.pdf\n",
      "📁 IFF\n",
      "    📄 final presentation.pptx\n",
      "    📄 iff-model-compare usage.pdf\n",
      "    📄 internship_report.pdf\n",
      "    📄 ModelCompare.pdf\n",
      "    📄 model_compare.py\n",
      "    📄 power_simulation.py\n",
      "📁 Roblox\n",
      "    📄 Josh DSA All Hands Lightning Round.pptx\n",
      "    📄 Josh Wang Final Presentation DSA.pptx\n",
      "    📄 Josh Wang Internship at Roblox Report.pdf\n",
      "    📄 Project 1_ SliceFinder Final Writeup.pdf\n",
      "    📄 SliceFinder (BYOL Presentation).pptx\n",
      "📁 UC Irvine\n",
      "    📄 JW_Dissertation_20220824.pdf\n",
      "📁 University of Rochester\n",
      "    📄 computational intro to stats final project report.pdf\n",
      "    📄 data mining Final Project (Report).pdf\n",
      "    📄 deep learning project report.pdf\n",
      "    📄 GAN_capstone_project_presentation.pptx\n",
      "    📄 GAN_capstone_project_report.pdf\n",
      "    📄 kaggle_election_donation_project_report.pptx\n",
      "    📄 kaggle_northern_europe_politician_tweet_project_report.pdf\n",
      "    📄 kaggle_ohio_covid_project_report.pdf\n"
     ]
    }
   ],
   "source": [
    "def display_file_structure(root_folder, indent_level=0, ignore_folders=None):\n",
    "    if ignore_folders is None:\n",
    "        ignore_folders = []\n",
    "    \n",
    "    try:\n",
    "        for item in os.listdir(root_folder):\n",
    "            item_path = os.path.join(root_folder, item)\n",
    "            # Check if the item is a folder to be ignored\n",
    "            if os.path.isdir(item_path) and item in ignore_folders:\n",
    "                continue\n",
    "            \n",
    "            if os.path.isdir(item_path):\n",
    "                print('    ' * indent_level + f'📁 {item}')\n",
    "                display_file_structure(item_path, indent_level + 1, ignore_folders)\n",
    "            else:\n",
    "                print('    ' * indent_level + f'📄 {item}')\n",
    "    except PermissionError:\n",
    "        print('    ' * indent_level + '⚠️ [Access Denied]')\n",
    "\n",
    "# Example usage\n",
    "root_folder_path = './documents'\n",
    "ignore_folders = ['temp']\n",
    "display_file_structure(root_folder_path, ignore_folders=ignore_folders)"
   ]
  },
  {
   "cell_type": "markdown",
   "metadata": {},
   "source": [
    "## load previous file structure"
   ]
  },
  {
   "cell_type": "code",
   "execution_count": 541,
   "metadata": {},
   "outputs": [],
   "source": [
    "def get_file_structure_with_checksums(root_dir, ignore_subfolder):\n",
    "    file_structure = {}\n",
    "    ignore_path = os.path.normpath(os.path.join(root_dir, ignore_subfolder))\n",
    "\n",
    "    for dirpath, dirnames, filenames in os.walk(root_dir):\n",
    "        # Skip the ignored subfolder\n",
    "        if os.path.commonpath([dirpath, ignore_path]) == ignore_path:\n",
    "            continue\n",
    "\n",
    "        # Normalize the directory path and store the file list with checksums\n",
    "        relative_dirpath = os.path.relpath(dirpath, root_dir)\n",
    "        file_structure[relative_dirpath] = {f: generate_checksum(os.path.join(dirpath, f)) for f in filenames}\n",
    "    \n",
    "    return file_structure\n",
    "\n",
    "def generate_checksum(file_path):\n",
    "    sha256 = hashlib.sha256()\n",
    "    try:\n",
    "        with open(file_path, 'rb') as f:\n",
    "            while chunk := f.read(8192):\n",
    "                sha256.update(chunk)\n",
    "    except IOError:\n",
    "        return None\n",
    "    return sha256.hexdigest()\n",
    "\n",
    "def load_file_structure(pickle_file):\n",
    "    with open(pickle_file, 'rb') as f:\n",
    "        return pickle.load(f)\n",
    "\n",
    "def compare_file_structures(old_structure, new_structure):\n",
    "    changes = {'added': [], 'removed': [], 'modified': []}\n",
    "    \n",
    "    all_paths = set(old_structure.keys()).union(set(new_structure.keys()))\n",
    "    \n",
    "    for dirpath in all_paths:\n",
    "        old_files = old_structure.get(dirpath, {})\n",
    "        new_files = new_structure.get(dirpath, {})\n",
    "        \n",
    "        # Files added\n",
    "        for file in new_files.keys() - old_files.keys():\n",
    "            changes['added'].append(os.path.join(dirpath, file))\n",
    "        \n",
    "        # Files removed\n",
    "        for file in old_files.keys() - new_files.keys():\n",
    "            changes['removed'].append(os.path.join(dirpath, file))\n",
    "        \n",
    "        # Files modified\n",
    "        for file in old_files.keys() & new_files.keys():\n",
    "            if old_files[file] != new_files[file]:\n",
    "                changes['modified'].append(os.path.join(dirpath, file))\n",
    "    \n",
    "    return changes\n",
    "\n",
    "def print_changes(changes):\n",
    "    for change_type, files in changes.items():\n",
    "        print(f\"\\n{change_type.capitalize()} files:\")\n",
    "        if files:\n",
    "            for file in files:\n",
    "                print(f\"  - {file}\")\n",
    "        else:\n",
    "            print(\"  None\")"
   ]
  },
  {
   "cell_type": "code",
   "execution_count": 542,
   "metadata": {},
   "outputs": [
    {
     "name": "stdout",
     "output_type": "stream",
     "text": [
      "\n",
      "Added files:\n",
      "  - General/resume.pdf\n",
      "  - General/Pictures.pdf\n",
      "\n",
      "Removed files:\n",
      "  - General/JingtianWang_Resume_20240627.pdf\n",
      "\n",
      "Modified files:\n",
      "  - General/Supplementary info for Josh Jingtian Wang.pdf\n"
     ]
    }
   ],
   "source": [
    "root_dir = './documents'\n",
    "pickle_file = 'file_structure_with_checksums.pkl'\n",
    "ignore_subfolder = 'temp'\n",
    "\n",
    "current_file_structure = get_file_structure_with_checksums(root_dir, ignore_subfolder)\n",
    "saved_file_structure = load_file_structure(pickle_file)\n",
    "changes = compare_file_structures(saved_file_structure, current_file_structure)\n",
    "\n",
    "# Print changes in a readable format\n",
    "print_changes(changes)"
   ]
  },
  {
   "cell_type": "code",
   "execution_count": 543,
   "metadata": {},
   "outputs": [
    {
     "data": {
      "text/plain": [
       "{'added': ['General/resume.pdf', 'General/Pictures.pdf'],\n",
       " 'removed': ['General/JingtianWang_Resume_20240627.pdf'],\n",
       " 'modified': ['General/Supplementary info for Josh Jingtian Wang.pdf']}"
      ]
     },
     "execution_count": 543,
     "metadata": {},
     "output_type": "execute_result"
    }
   ],
   "source": [
    "changes"
   ]
  },
  {
   "cell_type": "markdown",
   "metadata": {},
   "source": [
    "## save current file structure"
   ]
  },
  {
   "cell_type": "code",
   "execution_count": 544,
   "metadata": {},
   "outputs": [],
   "source": [
    "def save_file_structure(root_dir, pickle_file, ignore_subfolder):\n",
    "    file_structure = get_file_structure_with_checksums(root_dir, ignore_subfolder)\n",
    "    with open(pickle_file, 'wb') as f:\n",
    "        pickle.dump(file_structure, f)"
   ]
  },
  {
   "cell_type": "code",
   "execution_count": 545,
   "metadata": {},
   "outputs": [],
   "source": [
    "root_dir = './documents'\n",
    "pickle_file = 'file_structure_with_checksums.pkl'\n",
    "ignore_subfolder = 'temp'\n",
    "save_file_structure(root_dir, pickle_file, ignore_subfolder)"
   ]
  },
  {
   "cell_type": "markdown",
   "metadata": {},
   "source": [
    "# load data"
   ]
  },
  {
   "cell_type": "markdown",
   "metadata": {},
   "source": [
    "## whole document summaries"
   ]
  },
  {
   "cell_type": "code",
   "execution_count": 546,
   "metadata": {},
   "outputs": [],
   "source": [
    "from langchain.chains.summarize import load_summarize_chain\n",
    "from langchain_core.prompts import PromptTemplate\n",
    "from langchain_openai import ChatOpenAI\n",
    "from langchain_community.document_loaders import UnstructuredFileLoader\n",
    "from tqdm import tqdm\n",
    "from langchain_core.documents import Document"
   ]
  },
  {
   "cell_type": "code",
   "execution_count": 547,
   "metadata": {},
   "outputs": [],
   "source": [
    "# # Load all files in the documents folder\n",
    "# def load_files(root_folder, exclude_folders):\n",
    "#     all_data = []\n",
    "#     for foldername, subfolders, filenames in os.walk(root_folder):\n",
    "#         # Skip excluded folders\n",
    "#         if any(excluded in foldername for excluded in exclude_folders):\n",
    "#             continue\n",
    "\n",
    "#         for filename in filenames:\n",
    "#             file_path = os.path.join(foldername, filename)\n",
    "#             try:\n",
    "#                 loader = UnstructuredFileLoader(file_path, mode=\"single\")\n",
    "#                 data = loader.load()\n",
    "#                 all_data.extend(data)\n",
    "#                 print(f'Loaded {file_path}')\n",
    "#             except Exception as e:\n",
    "#                 print(f'Failed to load {file_path}: {e}')\n",
    "    \n",
    "#     return all_data\n",
    "\n",
    "def load_added_files(root_folder, changes):\n",
    "    all_data = []\n",
    "    added_files = changes.get('added', [])\n",
    "    modified_files = changes.get('modified', [])\n",
    "    files_to_load = added_files + modified_files\n",
    "    \n",
    "    for file_path in files_to_load:\n",
    "        \n",
    "        file_name_with_ext = os.path.basename(file_path)\n",
    "        file_name, file_extension = os.path.splitext(file_name_with_ext)\n",
    "        if file_name.lower() == 'pictures':\n",
    "            print(f'Skipping {file_path} because it is a picture file')\n",
    "            continue\n",
    "        \n",
    "        full_path = os.path.join(root_folder, file_path)\n",
    "        \n",
    "        try:\n",
    "            loader = UnstructuredFileLoader(full_path, mode=\"single\")\n",
    "            data = loader.load()\n",
    "            all_data.extend(data)\n",
    "            print(f'Loaded {full_path}')\n",
    "        except Exception as e:\n",
    "            print(f'Failed to load {full_path}: {e}')\n",
    "    \n",
    "    return all_data"
   ]
  },
  {
   "cell_type": "code",
   "execution_count": 548,
   "metadata": {},
   "outputs": [
    {
     "name": "stdout",
     "output_type": "stream",
     "text": [
      "Loaded ./documents/General/resume.pdf\n",
      "Skipping General/Pictures.pdf because it is a picture file\n",
      "Loaded ./documents/General/Supplementary info for Josh Jingtian Wang.pdf\n"
     ]
    }
   ],
   "source": [
    "# Define the root folder and folders to exclude\n",
    "root_folder_path = './documents'  # Replace with your actual path\n",
    "#exclude_folders = ['test']\n",
    "\n",
    "# Load the files and store the result in a list\n",
    "loaded_data = load_added_files(root_dir, changes)"
   ]
  },
  {
   "cell_type": "code",
   "execution_count": 549,
   "metadata": {},
   "outputs": [],
   "source": [
    "llm = ChatOpenAI(temperature=0, model='gpt-3.5-turbo', openai_api_key=api_key)"
   ]
  },
  {
   "cell_type": "code",
   "execution_count": 550,
   "metadata": {},
   "outputs": [
    {
     "name": "stdout",
     "output_type": "stream",
     "text": [
      "Number of ultra long docs: 0\n",
      "Number of remaining docs: 2\n"
     ]
    }
   ],
   "source": [
    "ultra_long_docs = []\n",
    "filtered_loaded_data = []\n",
    "\n",
    "# Iterate through loaded_data and categorize documents based on token count\n",
    "for doc in loaded_data:\n",
    "    num_tokens = llm.get_num_tokens(doc.page_content)\n",
    "    if num_tokens > 20000:\n",
    "        ultra_long_docs.append(doc)\n",
    "    else:\n",
    "        filtered_loaded_data.append(doc)\n",
    "\n",
    "# Assign the filtered list back to loaded_data\n",
    "loaded_data = filtered_loaded_data\n",
    "\n",
    "# Optionally, print the results to verify\n",
    "print(f\"Number of ultra long docs: {len(ultra_long_docs)}\")\n",
    "print(f\"Number of remaining docs: {len(loaded_data)}\")"
   ]
  },
  {
   "cell_type": "code",
   "execution_count": 551,
   "metadata": {},
   "outputs": [],
   "source": [
    "combine_prompt_template = \"\"\"\n",
    "You will be given a series of summaries from a document.\n",
    "You are also given the source of the document.\n",
    "Your goal is to give a verbose summary of the entire document. \n",
    "Your final summary should reflect not only the series of summaries but also the source of the document.\n",
    "\n",
    "Here is an example to guide you:\n",
    "\n",
    "If the source of a document is './documents/UC Irvine/JW_Dissertation_20220824.pdf', your final summary should mention that this document is a dissertation from UC Irvine. For instance:\n",
    "\n",
    "Example:\n",
    "\n",
    "SOURCE:\n",
    "./documents/UC Irvine/JW_Dissertation_20220824.pdf\n",
    "\n",
    "VERBOSE SUMMARY:\n",
    "This document is a dissertation from UC Irvine. It explores the topic of...\n",
    "\n",
    "Now, use the following summaries and source to create a verbose summary.\n",
    "\n",
    "SUMMARIES:\n",
    "{text}\n",
    "\n",
    "SOURCE:\n",
    "{source}\n",
    "\n",
    "VERBOSE SUMMARY:\n",
    "\"\"\"\n",
    "\n",
    "COMBINE_PROMPT = PromptTemplate.from_template(combine_prompt_template)"
   ]
  },
  {
   "cell_type": "code",
   "execution_count": 552,
   "metadata": {},
   "outputs": [
    {
     "name": "stderr",
     "output_type": "stream",
     "text": [
      "100%|██████████| 2/2 [00:05<00:00,  2.70s/it]\n"
     ]
    }
   ],
   "source": [
    "whole_doc_summaries = []\n",
    "for doc in tqdm(filtered_loaded_data):\n",
    "    num_tokens = llm.get_num_tokens(doc.page_content)\n",
    "    doc_source = doc.metadata['source']\n",
    "    if num_tokens > 20000:\n",
    "        print(f\"Document '{doc_source}' has {num_tokens} tokens. It is too long to summarize in one go. Will be processed using Best Representation Vectors\")\n",
    "        continue\n",
    "\n",
    "    COMBINE_PROMPT_PARTIAL = COMBINE_PROMPT.partial(source=doc_source)\n",
    "    summarize_chain = load_summarize_chain(llm, chain_type=\"map_reduce\", combine_prompt=COMBINE_PROMPT_PARTIAL)\n",
    "    summary = summarize_chain.invoke([doc])\n",
    "    summary_doc = Document(page_content=summary['output_text'], metadata={\"source\": doc_source})\n",
    "    whole_doc_summaries.append(summary_doc)"
   ]
  },
  {
   "cell_type": "code",
   "execution_count": 553,
   "metadata": {},
   "outputs": [
    {
     "data": {
      "text/plain": [
       "[Document(page_content=\"This document is a resume highlighting the professional experience and skills of Dr. Jingtian 'Josh' Wang. Dr. Wang is a Data Scientist with a background in Molecular Biology and Biochemistry from the University of California, Irvine. He has experience in developing advanced chatbots, using generative AI to predict laser output, and winning Kaggle challenges. Dr. Wang has interned at Roblox and IFF, where he improved data analysis tools and implemented machine learning models. His skill set includes Bash, Deep Learning, NLP, Python, and more.\", metadata={'source': './documents/General/resume.pdf'}),\n",
       " Document(page_content='The document titled \"Supplementary info for Josh Jingtian Wang\" provides additional information about Josh Jingtian Wang, who is currently residing in Arlington, VA with his wife and cat. It mentions his interests in powerlifting, plant care, and video gaming, as well as his career aspirations in Data Science and Machine Learning Engineering roles in the United States with permanent work authorization.', metadata={'source': './documents/General/Supplementary info for Josh Jingtian Wang.pdf'})]"
      ]
     },
     "execution_count": 553,
     "metadata": {},
     "output_type": "execute_result"
    }
   ],
   "source": [
    "whole_doc_summaries"
   ]
  },
  {
   "cell_type": "markdown",
   "metadata": {},
   "source": [
    "### Clustering to summarize ultra long docs\n",
    "https://github.com/gkamradt/langchain-tutorials/blob/main/data_generation/5%20Levels%20Of%20Summarization%20-%20Novice%20To%20Expert.ipynb\n",
    "\n",
    "The BRV Steps:\n",
    "\n",
    "1. Load your book into a single text file\n",
    "2. Split your text into large-ish chunks\n",
    "3. Embed your chunks to get vectors\n",
    "4. Cluster the vectors to see which are similar to each other and likely talk about the same parts of the book\n",
    "5. Pick embeddings that represent the cluster the most (method: closest to each cluster centroid)\n",
    "6. Summarize the documents that these embeddings represent"
   ]
  },
  {
   "cell_type": "code",
   "execution_count": 88,
   "metadata": {},
   "outputs": [],
   "source": [
    "# Loaders\n",
    "from langchain.schema import Document\n",
    "\n",
    "# Splitters\n",
    "from langchain.text_splitter import RecursiveCharacterTextSplitter\n",
    "\n",
    "# Model\n",
    "from langchain_openai import ChatOpenAI\n",
    "\n",
    "# Embedding Support\n",
    "from langchain.vectorstores import FAISS\n",
    "from langchain_openai import OpenAIEmbeddings\n",
    "\n",
    "# Summarizer we'll use for Map Reduce\n",
    "from langchain.chains.summarize import load_summarize_chain\n",
    "\n",
    "# Data Science\n",
    "import numpy as np\n",
    "from sklearn.cluster import KMeans\n",
    "\n",
    "import matplotlib.pyplot as plt\n",
    "from sklearn.manifold import TSNE\n",
    "\n",
    "# Taking out the warnings\n",
    "import warnings\n",
    "from warnings import simplefilter\n",
    "# Filter out FutureWarnings\n",
    "simplefilter(action='ignore', category=FutureWarning)"
   ]
  },
  {
   "cell_type": "code",
   "execution_count": 51,
   "metadata": {},
   "outputs": [],
   "source": [
    "text_splitter = RecursiveCharacterTextSplitter(separators=[\"\\n\\n\", \"\\n\", \"\\t\"], chunk_size=10000, chunk_overlap=3000)\n",
    "\n",
    "docs = text_splitter.split_documents(ultra_long_docs[0])"
   ]
  },
  {
   "cell_type": "code",
   "execution_count": 52,
   "metadata": {},
   "outputs": [
    {
     "name": "stdout",
     "output_type": "stream",
     "text": [
      "Now our long doc is split up into 35 documents\n"
     ]
    }
   ],
   "source": [
    "num_documents = len(docs)\n",
    "\n",
    "print (f\"Now our long doc is split up into {num_documents} documents\")"
   ]
  },
  {
   "cell_type": "code",
   "execution_count": 55,
   "metadata": {},
   "outputs": [],
   "source": [
    "embeddings = OpenAIEmbeddings(openai_api_key=api_key)\n",
    "\n",
    "vectors = embeddings.embed_documents([x.page_content for x in docs])"
   ]
  },
  {
   "cell_type": "code",
   "execution_count": 97,
   "metadata": {},
   "outputs": [],
   "source": [
    "# # Elbow plot\n",
    "\n",
    "# # Define the range for number of clusters\n",
    "# cluster_range = range(1, 14)\n",
    "\n",
    "# # Calculate the inertia for each number of clusters\n",
    "# inertia = []\n",
    "# for n_clusters in tqdm(cluster_range):\n",
    "#     kmeans = KMeans(n_clusters=n_clusters, random_state=42)\n",
    "#     kmeans.fit(vectors)\n",
    "#     inertia.append(kmeans.inertia_)\n",
    "\n",
    "# # Plot the elbow plot\n",
    "# plt.figure(figsize=(8, 6))\n",
    "# plt.plot(cluster_range, inertia, marker='o')\n",
    "# plt.title('Elbow Plot for K-means Clustering')\n",
    "# plt.xlabel('Number of Clusters')\n",
    "# plt.ylabel('Inertia')\n",
    "# plt.xticks(cluster_range)\n",
    "# plt.grid(True)\n",
    "# plt.show()"
   ]
  },
  {
   "cell_type": "code",
   "execution_count": 98,
   "metadata": {},
   "outputs": [],
   "source": [
    "# Assuming 'embeddings' is a list or array of 1536-dimensional embeddings\n",
    "\n",
    "# Choose the number of clusters, this can be adjusted based on the document's content.\n",
    "# Choosing 8 because the document has 7 chapters and 1 introduction\n",
    "num_clusters = 8\n",
    "\n",
    "# Perform K-means clustering\n",
    "kmeans = KMeans(n_clusters=num_clusters, random_state=42).fit(vectors)"
   ]
  },
  {
   "cell_type": "code",
   "execution_count": 99,
   "metadata": {},
   "outputs": [
    {
     "data": {
      "text/plain": [
       "array([0, 0, 7, 3, 2, 2, 2, 2, 2, 2, 2, 3, 3, 3, 5, 5, 5, 5, 5, 5, 3, 6,\n",
       "       4, 4, 6, 6, 6, 4, 4, 1, 1, 1, 1, 1, 7], dtype=int32)"
      ]
     },
     "execution_count": 99,
     "metadata": {},
     "output_type": "execute_result"
    }
   ],
   "source": [
    "kmeans.labels_"
   ]
  },
  {
   "cell_type": "code",
   "execution_count": 100,
   "metadata": {},
   "outputs": [
    {
     "data": {
      "image/png": "[encoded data removed]",
      "text/plain": [
       "<Figure size 640x480 with 1 Axes>"
      ]
     },
     "metadata": {},
     "output_type": "display_data"
    }
   ],
   "source": [
    "vectors = np.array(vectors)\n",
    "\n",
    "# Perform t-SNE and reduce to 2 dimensions\n",
    "tsne = TSNE(n_components=2, random_state=42)\n",
    "reduced_data_tsne = tsne.fit_transform(np.array(vectors))\n",
    "\n",
    "# Plot the reduced data\n",
    "plt.scatter(reduced_data_tsne[:, 0], reduced_data_tsne[:, 1], c=kmeans.labels_, cmap='rainbow')\n",
    "plt.xlabel('Dimension 1')\n",
    "plt.ylabel('Dimension 2')\n",
    "plt.title('Book Embeddings Clustered')\n",
    "plt.show()"
   ]
  },
  {
   "cell_type": "code",
   "execution_count": 101,
   "metadata": {},
   "outputs": [],
   "source": [
    "# Find the closest embeddings to the centroids\n",
    "\n",
    "# Create an empty list that will hold your closest points\n",
    "closest_indices = []\n",
    "\n",
    "# Loop through the number of clusters you have\n",
    "for i in range(num_clusters):\n",
    "    \n",
    "    # Get the list of distances from that particular cluster center\n",
    "    distances = np.linalg.norm(vectors - kmeans.cluster_centers_[i], axis=1)\n",
    "    \n",
    "    # Find the list position of the closest one (using argmin to find the smallest distance)\n",
    "    closest_index = np.argmin(distances)\n",
    "    \n",
    "    # Append that position to your closest indices list\n",
    "    closest_indices.append(closest_index)"
   ]
  },
  {
   "cell_type": "code",
   "execution_count": 102,
   "metadata": {},
   "outputs": [
    {
     "data": {
      "text/plain": [
       "[0, 2, 3, 5, 16, 23, 25, 30]"
      ]
     },
     "execution_count": 102,
     "metadata": {},
     "output_type": "execute_result"
    }
   ],
   "source": [
    "selected_indices = sorted(closest_indices)\n",
    "selected_indices"
   ]
  },
  {
   "cell_type": "code",
   "execution_count": 103,
   "metadata": {},
   "outputs": [],
   "source": [
    "selected_docs = [docs[doc] for doc in selected_indices]"
   ]
  },
  {
   "cell_type": "code",
   "execution_count": 186,
   "metadata": {},
   "outputs": [],
   "source": [
    "# summary chain\n",
    "llm = ChatOpenAI(temperature=0, model='gpt-3.5-turbo', openai_api_key=api_key)\n",
    "\n",
    "doc_source = loaded_data[3].metadata['source']\n",
    "COMBINE_PROMPT_PARTIAL = COMBINE_PROMPT.partial(source=doc_source)\n",
    "summarize_chain = load_summarize_chain(llm, chain_type=\"map_reduce\", combine_prompt=COMBINE_PROMPT_PARTIAL)"
   ]
  },
  {
   "cell_type": "code",
   "execution_count": 188,
   "metadata": {},
   "outputs": [],
   "source": [
    "dissertation_summary = summarize_chain.invoke(selected_docs)"
   ]
  },
  {
   "cell_type": "code",
   "execution_count": 189,
   "metadata": {},
   "outputs": [
    {
     "name": "stdout",
     "output_type": "stream",
     "text": [
      "This document is a dissertation from the University of California, Irvine, submitted by Jingtian \"Josh\" Wang for the degree of Doctor of Philosophy in Molecular Biology and Biochemistry. The dissertation focuses on advancements in controlling gene expression in cancer gene therapies. It includes chapters on posttranslational modifications on RNA binding proteins, selective cancer cell killing, Tet-ON inducible gene expression, the role of chromatin remodeling protein HELLS in retinoblastoma, and the identification of regulators of dendrite arborization. The research aims to enhance the specificity and effectiveness of cancer gene therapies by targeting specific biochemical defects in cancer cells. \n",
      "\n",
      "Gene therapy trials for cancer treatment have been exploring new approaches to target cancer cells specifically without harming normal tissues. The dissertation discusses the challenges and strategies involved in achieving this goal, including the use of cancer-specific promoters and targeted delivery methods. Various cytotoxic proteins and novel splicing-based therapies are also explored as potential treatments for different types of cancer. Bioinformatic analysis is utilized to identify targets for cancer gene therapies and improve gene expression systems. The overall objective is to expand the gene therapy toolkit and develop therapies that target specific biochemical defects in cancer cells.\n",
      "\n",
      "The dissertation also covers the development of an improved gene expression system called OTetRA, the roles of chromatin remodeling protein HELLS in retinoblastoma, and the identification of novel regulators of dendrite arborization in Drosophila. By using bioinformatic techniques, the research aims to accelerate experimental biology and discover cancer-specific protein defects that can be exploited to enhance cancer gene therapies. The study emphasizes the importance of targeting biochemical defects in cancers to improve the specificity and effectiveness of gene therapies.\n",
      "\n",
      "Furthermore, the document explores the identification of post-translational modification (PTM) sites on RNA-binding proteins (RBPs) using interaction databases and mass spectrometry data. The researchers investigate the disease relevance of these PTM sites and provide an online searchable database for easy access to this information. The study reveals complex PTM profiles of RBPs, with phosphorylation being the most common modification. The conservation of PTM sites across vertebrates suggests their functional importance in RNA biology.\n",
      "\n",
      "Additionally, the dissertation discusses the construction of novel gene expression vectors and the role of the HELLS gene in retinal development and tumorigenesis. Results show that HELLS plays a critical role in tumor proliferation and could be a potential therapeutic target for retinoblastoma. The study also examines the impact of RNA-binding proteins on dendrite arborization in md neurons, providing insights into transcription regulation and potential therapeutic targets for neuronal development.\n",
      "\n",
      "In summary, this dissertation from UC Irvine delves into the intricate mechanisms of gene expression control in cancer gene therapies, utilizing bioinformatic analysis, novel gene expression systems, and the identification of specific biochemical defects in cancer cells. The research aims to enhance the specificity and effectiveness of cancer treatments by targeting unique features of cancer cells while minimizing harm to normal tissues. Through a multidisciplinary approach, the study contributes to the advancement of gene therapy techniques and potential therapeutic targets for various types of cancer.\n"
     ]
    }
   ],
   "source": [
    "print(dissertation_summary['output_text'])"
   ]
  },
  {
   "cell_type": "code",
   "execution_count": 344,
   "metadata": {},
   "outputs": [],
   "source": [
    "dissertation_source = loaded_data[3].metadata[\"source\"]\n",
    "dissertation_summary_doc = Document(page_content=dissertation_summary['output_text'], metadata={\"source\": dissertation_source})"
   ]
  },
  {
   "cell_type": "code",
   "execution_count": 346,
   "metadata": {},
   "outputs": [],
   "source": [
    "whole_doc_summaries.append(dissertation_summary_doc)"
   ]
  },
  {
   "cell_type": "markdown",
   "metadata": {},
   "source": [
    "## extract and summarize images"
   ]
  },
  {
   "cell_type": "code",
   "execution_count": 554,
   "metadata": {},
   "outputs": [],
   "source": [
    "import os\n",
    "from unstructured.partition.pdf import partition_pdf"
   ]
  },
  {
   "cell_type": "code",
   "execution_count": 555,
   "metadata": {},
   "outputs": [],
   "source": [
    "# def extract_images(root_folder, exclude_folders):\n",
    "#     all_raw_pdf_elements = []\n",
    "#     for foldername, subfolders, filenames in tqdm(os.walk(root_folder)):\n",
    "#         # Skip excluded folders\n",
    "#         if any(excluded in foldername for excluded in exclude_folders):\n",
    "#             continue\n",
    "\n",
    "#         for filename in filenames:\n",
    "#             if not filename.lower().endswith('.pdf'):\n",
    "#                 continue  # Skip non-PDF files\n",
    "            \n",
    "#             file_path = os.path.join(foldername, filename)\n",
    "#             print(f'Loading and processing {file_path}')\n",
    "#             file_name_without_extension = os.path.splitext(filename)[0]\n",
    "#             relative_folder_path = os.path.relpath(foldername, root_folder)\n",
    "#             if relative_folder_path == \".\":\n",
    "#                 output_dir = os.path.join(\"./extracted_images\", file_name_without_extension)\n",
    "#             else:\n",
    "#                 output_dir = os.path.join(\"./extracted_images\", relative_folder_path, file_name_without_extension)\n",
    "#             #print(f'Output dir: {output_dir}')\n",
    "#             try:\n",
    "#                 raw_pdf_elements = partition_pdf(\n",
    "#                     filename=file_path,\n",
    "#                     extract_images_in_pdf=True,\n",
    "#                     infer_table_structure=True,\n",
    "#                     image_output_dir_path=output_dir\n",
    "#                 )\n",
    "#                 all_raw_pdf_elements.append(raw_pdf_elements)\n",
    "#                 print(f'Loaded and processed {file_path}')\n",
    "#             except Exception as e:\n",
    "#                 print(f'Failed to load {file_path}: {e}')\n",
    "    \n",
    "#     return all_raw_pdf_elements\n",
    "\n",
    "def extract_images(root_folder, changes):\n",
    "    all_raw_pdf_elements = []\n",
    "    added_files = changes.get('added', [])\n",
    "    modified_files = changes.get('modified', [])\n",
    "    files_to_load = added_files + modified_files\n",
    "    \n",
    "    for file_path in tqdm(files_to_load):\n",
    "        if not file_path.lower().endswith('.pdf'):\n",
    "            continue  # Skip non-PDF files\n",
    "\n",
    "        full_path = os.path.join(root_folder, file_path)\n",
    "        print(f'Loading and processing {full_path}')\n",
    "        \n",
    "        file_name_without_extension = os.path.splitext(os.path.basename(file_path))[0]\n",
    "        relative_folder_path = os.path.dirname(file_path)\n",
    "        if relative_folder_path == \".\":\n",
    "            output_dir = os.path.join(\"./extracted_images\", file_name_without_extension)\n",
    "        else:\n",
    "            output_dir = os.path.join(\"./extracted_images\", relative_folder_path, file_name_without_extension)\n",
    "\n",
    "        try:\n",
    "            raw_pdf_elements = partition_pdf(\n",
    "                filename=full_path,\n",
    "                extract_images_in_pdf=True,\n",
    "                infer_table_structure=True,\n",
    "                image_output_dir_path=output_dir\n",
    "            )\n",
    "            all_raw_pdf_elements.append(raw_pdf_elements)\n",
    "            print(f'Loaded and processed {full_path}')\n",
    "        except Exception as e:\n",
    "            print(f'Failed to load {full_path}: {e}')\n",
    "    \n",
    "    return all_raw_pdf_elements"
   ]
  },
  {
   "cell_type": "code",
   "execution_count": 556,
   "metadata": {},
   "outputs": [
    {
     "name": "stderr",
     "output_type": "stream",
     "text": [
      "  0%|          | 0/3 [00:00<?, ?it/s]"
     ]
    },
    {
     "name": "stdout",
     "output_type": "stream",
     "text": [
      "Loading and processing ./documents/General/resume.pdf\n"
     ]
    },
    {
     "name": "stderr",
     "output_type": "stream",
     "text": [
      " 33%|███▎      | 1/3 [00:03<00:07,  3.91s/it]"
     ]
    },
    {
     "name": "stdout",
     "output_type": "stream",
     "text": [
      "Loaded and processed ./documents/General/resume.pdf\n",
      "Loading and processing ./documents/General/Pictures.pdf\n"
     ]
    },
    {
     "name": "stderr",
     "output_type": "stream",
     "text": [
      " 67%|██████▋   | 2/3 [00:34<00:19, 19.57s/it]"
     ]
    },
    {
     "name": "stdout",
     "output_type": "stream",
     "text": [
      "Loaded and processed ./documents/General/Pictures.pdf\n",
      "Loading and processing ./documents/General/Supplementary info for Josh Jingtian Wang.pdf\n"
     ]
    },
    {
     "name": "stderr",
     "output_type": "stream",
     "text": [
      "100%|██████████| 3/3 [00:36<00:00, 12.19s/it]"
     ]
    },
    {
     "name": "stdout",
     "output_type": "stream",
     "text": [
      "Loaded and processed ./documents/General/Supplementary info for Josh Jingtian Wang.pdf\n"
     ]
    },
    {
     "name": "stderr",
     "output_type": "stream",
     "text": [
      "\n"
     ]
    }
   ],
   "source": [
    "root_folder_path = './documents'  # Replace with your actual path\n",
    "#exclude_folders = ['test']\n",
    "\n",
    "all_raw_pdf_elements = extract_images(root_folder_path, changes)"
   ]
  },
  {
   "cell_type": "markdown",
   "metadata": {},
   "source": [
    "## summarize images"
   ]
  },
  {
   "cell_type": "code",
   "execution_count": 557,
   "metadata": {},
   "outputs": [],
   "source": [
    "from langchain_openai import ChatOpenAI\n",
    "from langchain_core.prompts import ChatPromptTemplate\n",
    "from langchain.schema.messages import HumanMessage\n",
    "from langchain_core.output_parsers import StrOutputParser\n",
    "from langchain.docstore.document import Document\n",
    "from PIL import Image\n",
    "import base64\n",
    "import io\n",
    "import unstructured"
   ]
  },
  {
   "cell_type": "code",
   "execution_count": 558,
   "metadata": {},
   "outputs": [],
   "source": [
    "# Function to convert image to base64\n",
    "def image_to_base64(image_path):\n",
    "    with Image.open(image_path) as image:\n",
    "        buffered = io.BytesIO()\n",
    "        image.save(buffered, format=image.format)\n",
    "        img_str = base64.b64encode(buffered.getvalue())\n",
    "        return img_str.decode('utf-8')"
   ]
  },
  {
   "cell_type": "code",
   "execution_count": 559,
   "metadata": {},
   "outputs": [],
   "source": [
    "# llm = ChatOpenAI(model=\"gpt-4-vision-preview\", openai_api_key = api_key)\n",
    "llm4o = ChatOpenAI(model=\"gpt-4o\", openai_api_key = api_key)"
   ]
  },
  {
   "cell_type": "code",
   "execution_count": 560,
   "metadata": {},
   "outputs": [],
   "source": [
    "HUMAN_MESSAGE_TEMPLATE = [\n",
    "                    {\"type\": \"text\", \"text\" : \"\"\"\n",
    "                     Please give a summary of the image provided. Consider the image caption if provided. Be descriptive.\n",
    "                     \n",
    "                     Image Caption: {caption}\n",
    "                     \n",
    "                     Summary:\n",
    "                     \"\"\"},\n",
    "                    {\n",
    "                        \"type\": \"image_url\",\n",
    "                        \"image_url\": {\n",
    "                            \"url\": \"data:image/jpeg;base64,{image_str}\"\n",
    "                        },\n",
    "                    },\n",
    "                ]\n",
    "\n",
    "IMAGE_SUMMARY_PROMPT = ChatPromptTemplate.from_messages(\n",
    "    [(\"user\", HUMAN_MESSAGE_TEMPLATE)]\n",
    ")"
   ]
  },
  {
   "cell_type": "code",
   "execution_count": 561,
   "metadata": {},
   "outputs": [],
   "source": [
    "# def get_llm_response(image_str, caption):\n",
    "#     msg = llm.invoke(\n",
    "#         [\n",
    "#             HumanMessage(\n",
    "#                 content=[\n",
    "#                     {\"type\": \"text\", \"text\" : f\"\"\"\n",
    "#                      Please give a summary of the image provided. Consider the image caption if provided. Be descriptive.\n",
    "                     \n",
    "#                      Image Caption: {caption}\n",
    "                     \n",
    "#                      Summary:\n",
    "#                      \"\"\"},\n",
    "#                     {\n",
    "#                         \"type\": \"image_url\",\n",
    "#                         \"image_url\": {\n",
    "#                             \"url\": f\"data:image/jpeg;base64,{image_str}\"\n",
    "#                         },\n",
    "#                     },\n",
    "#                 ]\n",
    "#             )\n",
    "#         ]\n",
    "#     )\n",
    "#     return msg\n",
    "\n",
    "image_summary_chain = IMAGE_SUMMARY_PROMPT | llm4o | StrOutputParser()\n",
    "\n",
    "def get_summary(element, caption = None):\n",
    "    image_path = element.to_dict()['metadata'][\"image_path\"]\n",
    "    image_str = image_to_base64(image_path)\n",
    "    llm_input = {\n",
    "        \"caption\": caption,\n",
    "        \"image_str\": image_str\n",
    "    }\n",
    "    msg = image_summary_chain.invoke(llm_input)\n",
    "    return msg\n",
    "\n",
    "def get_metadata(element):\n",
    "    file_directory = element.to_dict()['metadata'][\"file_directory\"]\n",
    "    filename = element.to_dict()['metadata'][\"filename\"]\n",
    "    source = f\"{file_directory}/{filename}\"\n",
    "    image_path = element.to_dict()['metadata'][\"image_path\"]\n",
    "    metadata = {'source': source, 'image_path': image_path}\n",
    "    return metadata\n",
    "\n",
    "def process_image_elements(flat_elements):\n",
    "    image_summaries = []\n",
    "    \n",
    "    for i in tqdm(range(len(flat_elements))):\n",
    "        if isinstance(flat_elements[i], unstructured.documents.elements.Image):\n",
    "            print('Processing Image')\n",
    "            print('Getting Summary')\n",
    "            \n",
    "            # Check if there is a caption\n",
    "            if i + 1 < len(flat_elements) and isinstance(flat_elements[i+1], unstructured.documents.elements.FigureCaption):\n",
    "                caption = flat_elements[i+1].text\n",
    "            else:\n",
    "                caption = None\n",
    "            \n",
    "            summary = get_summary(flat_elements[i], caption)\n",
    "            print('Summary:', summary[:20])\n",
    "            \n",
    "            metadata = get_metadata(flat_elements[i])\n",
    "            \n",
    "            doc = Document(\n",
    "                page_content=summary,\n",
    "                metadata=metadata\n",
    "            )\n",
    "            \n",
    "            image_summaries.append(doc)\n",
    "            \n",
    "            print('-' * 20)\n",
    "    \n",
    "    return image_summaries"
   ]
  },
  {
   "cell_type": "code",
   "execution_count": 562,
   "metadata": {},
   "outputs": [
    {
     "name": "stderr",
     "output_type": "stream",
     "text": [
      "  0%|          | 0/97 [00:00<?, ?it/s]"
     ]
    },
    {
     "name": "stdout",
     "output_type": "stream",
     "text": [
      "Processing Image\n",
      "Getting Summary\n"
     ]
    },
    {
     "name": "stderr",
     "output_type": "stream",
     "text": [
      " 39%|███▉      | 38/97 [00:04<00:07,  8.32it/s]"
     ]
    },
    {
     "name": "stdout",
     "output_type": "stream",
     "text": [
      "Summary: The image shows a fl\n",
      "--------------------\n",
      "Processing Image\n",
      "Getting Summary\n"
     ]
    },
    {
     "name": "stderr",
     "output_type": "stream",
     "text": [
      " 41%|████      | 40/97 [00:26<00:49,  1.14it/s]"
     ]
    },
    {
     "name": "stdout",
     "output_type": "stream",
     "text": [
      "Summary: The image features a\n",
      "--------------------\n",
      "Processing Image\n",
      "Getting Summary\n"
     ]
    },
    {
     "name": "stderr",
     "output_type": "stream",
     "text": [
      " 43%|████▎     | 42/97 [00:30<00:55,  1.00s/it]"
     ]
    },
    {
     "name": "stdout",
     "output_type": "stream",
     "text": [
      "Summary: The image depicts a \n",
      "--------------------\n",
      "Processing Image\n",
      "Getting Summary\n"
     ]
    },
    {
     "name": "stderr",
     "output_type": "stream",
     "text": [
      " 45%|████▌     | 44/97 [00:34<00:56,  1.07s/it]"
     ]
    },
    {
     "name": "stdout",
     "output_type": "stream",
     "text": [
      "Summary: The image shows a fl\n",
      "--------------------\n",
      "Processing Image\n",
      "Getting Summary\n"
     ]
    },
    {
     "name": "stderr",
     "output_type": "stream",
     "text": [
      " 47%|████▋     | 46/97 [00:38<01:00,  1.19s/it]"
     ]
    },
    {
     "name": "stdout",
     "output_type": "stream",
     "text": [
      "Summary: The image shows a fl\n",
      "--------------------\n",
      "Processing Image\n",
      "Getting Summary\n"
     ]
    },
    {
     "name": "stderr",
     "output_type": "stream",
     "text": [
      " 49%|████▉     | 48/97 [00:41<01:03,  1.30s/it]"
     ]
    },
    {
     "name": "stdout",
     "output_type": "stream",
     "text": [
      "Summary: The image depicts a \n",
      "--------------------\n",
      "Processing Image\n",
      "Getting Summary\n"
     ]
    },
    {
     "name": "stderr",
     "output_type": "stream",
     "text": [
      " 52%|█████▏    | 50/97 [00:45<01:08,  1.45s/it]"
     ]
    },
    {
     "name": "stdout",
     "output_type": "stream",
     "text": [
      "Summary: The image depicts a \n",
      "--------------------\n",
      "Processing Image\n",
      "Getting Summary\n"
     ]
    },
    {
     "name": "stderr",
     "output_type": "stream",
     "text": [
      " 54%|█████▎    | 52/97 [00:50<01:13,  1.64s/it]"
     ]
    },
    {
     "name": "stdout",
     "output_type": "stream",
     "text": [
      "Summary: The image shows a cl\n",
      "--------------------\n",
      "Processing Image\n",
      "Getting Summary\n"
     ]
    },
    {
     "name": "stderr",
     "output_type": "stream",
     "text": [
      " 56%|█████▌    | 54/97 [00:54<01:15,  1.75s/it]"
     ]
    },
    {
     "name": "stdout",
     "output_type": "stream",
     "text": [
      "Summary: The image features a\n",
      "--------------------\n",
      "Processing Image\n",
      "Getting Summary\n"
     ]
    },
    {
     "name": "stderr",
     "output_type": "stream",
     "text": [
      " 58%|█████▊    | 56/97 [00:58<01:10,  1.73s/it]"
     ]
    },
    {
     "name": "stdout",
     "output_type": "stream",
     "text": [
      "Summary: The image depicts a \n",
      "--------------------\n",
      "Processing Image\n",
      "Getting Summary\n"
     ]
    },
    {
     "name": "stderr",
     "output_type": "stream",
     "text": [
      " 60%|█████▉    | 58/97 [01:02<01:13,  1.87s/it]"
     ]
    },
    {
     "name": "stdout",
     "output_type": "stream",
     "text": [
      "Summary: The image shows a ca\n",
      "--------------------\n",
      "Processing Image\n",
      "Getting Summary\n"
     ]
    },
    {
     "name": "stderr",
     "output_type": "stream",
     "text": [
      " 62%|██████▏   | 60/97 [01:05<01:07,  1.81s/it]"
     ]
    },
    {
     "name": "stdout",
     "output_type": "stream",
     "text": [
      "Summary: The image shows a fl\n",
      "--------------------\n",
      "Processing Image\n",
      "Getting Summary\n"
     ]
    },
    {
     "name": "stderr",
     "output_type": "stream",
     "text": [
      " 64%|██████▍   | 62/97 [01:09<01:01,  1.77s/it]"
     ]
    },
    {
     "name": "stdout",
     "output_type": "stream",
     "text": [
      "Summary: The image shows a fl\n",
      "--------------------\n",
      "Processing Image\n",
      "Getting Summary\n"
     ]
    },
    {
     "name": "stderr",
     "output_type": "stream",
     "text": [
      " 66%|██████▌   | 64/97 [01:13<01:01,  1.87s/it]"
     ]
    },
    {
     "name": "stdout",
     "output_type": "stream",
     "text": [
      "Summary: The image shows a fl\n",
      "--------------------\n",
      "Processing Image\n",
      "Getting Summary\n"
     ]
    },
    {
     "name": "stderr",
     "output_type": "stream",
     "text": [
      " 68%|██████▊   | 66/97 [01:17<00:58,  1.89s/it]"
     ]
    },
    {
     "name": "stdout",
     "output_type": "stream",
     "text": [
      "Summary: The image shows a fl\n",
      "--------------------\n",
      "Processing Image\n",
      "Getting Summary\n"
     ]
    },
    {
     "name": "stderr",
     "output_type": "stream",
     "text": [
      " 70%|███████   | 68/97 [01:21<00:56,  1.94s/it]"
     ]
    },
    {
     "name": "stdout",
     "output_type": "stream",
     "text": [
      "Summary: The image shows a fl\n",
      "--------------------\n",
      "Processing Image\n",
      "Getting Summary\n"
     ]
    },
    {
     "name": "stderr",
     "output_type": "stream",
     "text": [
      " 72%|███████▏  | 70/97 [01:25<00:54,  2.02s/it]"
     ]
    },
    {
     "name": "stdout",
     "output_type": "stream",
     "text": [
      "Summary: The image shows a fl\n",
      "--------------------\n",
      "Processing Image\n",
      "Getting Summary\n"
     ]
    },
    {
     "name": "stderr",
     "output_type": "stream",
     "text": [
      " 74%|███████▍  | 72/97 [01:30<00:51,  2.05s/it]"
     ]
    },
    {
     "name": "stdout",
     "output_type": "stream",
     "text": [
      "Summary: The image features E\n",
      "--------------------\n",
      "Processing Image\n",
      "Getting Summary\n"
     ]
    },
    {
     "name": "stderr",
     "output_type": "stream",
     "text": [
      " 76%|███████▋  | 74/97 [01:34<00:47,  2.06s/it]"
     ]
    },
    {
     "name": "stdout",
     "output_type": "stream",
     "text": [
      "Summary: The image shows a fl\n",
      "--------------------\n",
      "Processing Image\n",
      "Getting Summary\n"
     ]
    },
    {
     "name": "stderr",
     "output_type": "stream",
     "text": [
      " 78%|███████▊  | 76/97 [01:37<00:41,  1.98s/it]"
     ]
    },
    {
     "name": "stdout",
     "output_type": "stream",
     "text": [
      "Summary: The image shows a fl\n",
      "--------------------\n",
      "Processing Image\n",
      "Getting Summary\n"
     ]
    },
    {
     "name": "stderr",
     "output_type": "stream",
     "text": [
      " 80%|████████  | 78/97 [01:42<00:39,  2.06s/it]"
     ]
    },
    {
     "name": "stdout",
     "output_type": "stream",
     "text": [
      "Summary: The image depicts a \n",
      "--------------------\n",
      "Processing Image\n",
      "Getting Summary\n"
     ]
    },
    {
     "name": "stderr",
     "output_type": "stream",
     "text": [
      " 82%|████████▏ | 80/97 [01:46<00:34,  2.04s/it]"
     ]
    },
    {
     "name": "stdout",
     "output_type": "stream",
     "text": [
      "Summary: The image shows a fl\n",
      "--------------------\n",
      "Processing Image\n",
      "Getting Summary\n"
     ]
    },
    {
     "name": "stderr",
     "output_type": "stream",
     "text": [
      " 85%|████████▍ | 82/97 [01:50<00:30,  2.00s/it]"
     ]
    },
    {
     "name": "stdout",
     "output_type": "stream",
     "text": [
      "Summary: The image shows a co\n",
      "--------------------\n",
      "Processing Image\n",
      "Getting Summary\n"
     ]
    },
    {
     "name": "stderr",
     "output_type": "stream",
     "text": [
      "100%|██████████| 97/97 [01:55<00:00,  1.19s/it]"
     ]
    },
    {
     "name": "stdout",
     "output_type": "stream",
     "text": [
      "Summary: The image features a\n",
      "--------------------\n"
     ]
    },
    {
     "name": "stderr",
     "output_type": "stream",
     "text": [
      "\n"
     ]
    }
   ],
   "source": [
    "flat_elements = [element for sublist in all_raw_pdf_elements for element in sublist]\n",
    "image_summaries = process_image_elements(flat_elements)"
   ]
  },
  {
   "cell_type": "code",
   "execution_count": 563,
   "metadata": {},
   "outputs": [
    {
     "data": {
      "text/plain": [
       "24"
      ]
     },
     "execution_count": 563,
     "metadata": {},
     "output_type": "execute_result"
    }
   ],
   "source": [
    "len(image_summaries)"
   ]
  },
  {
   "cell_type": "code",
   "execution_count": 564,
   "metadata": {},
   "outputs": [
    {
     "name": "stdout",
     "output_type": "stream",
     "text": [
      "The image shows a fluffy, brown tabby cat named Emma, lounging comfortably on a dark-colored couch. Emma is lying on a soft, light-colored patterned blanket that is draped over the couch. One of her front legs is stretched out in front of her, and she has an alert yet relaxed expression on her face. The setting appears to be cozy and homely, with Emma looking content in her resting spot.\n"
     ]
    }
   ],
   "source": [
    "print(image_summaries[-5].page_content)"
   ]
  },
  {
   "cell_type": "markdown",
   "metadata": {},
   "source": [
    "# separate documents by source"
   ]
  },
  {
   "cell_type": "code",
   "execution_count": 565,
   "metadata": {},
   "outputs": [],
   "source": [
    "def categorize_documents(documents):\n",
    "    # Define the categories and initialize empty lists for each\n",
    "    categories = {\n",
    "        'IFF': [],\n",
    "        'UC Irvine': [],\n",
    "        'Roblox': [],\n",
    "        'University of Rochester': [],\n",
    "        'General': []\n",
    "    }\n",
    "    for doc in documents:\n",
    "        source = doc.metadata['source']\n",
    "        if 'IFF' in source:\n",
    "            categories['IFF'].append(doc)\n",
    "        elif 'UC Irvine' in source:\n",
    "            categories['UC Irvine'].append(doc)\n",
    "        elif 'Roblox' in source:\n",
    "            categories['Roblox'].append(doc)\n",
    "        elif 'University of Rochester' in source:\n",
    "            categories['University of Rochester'].append(doc)\n",
    "        else:\n",
    "        #elif source.startswith('./documents/') and '/' not in source.replace('./documents/', ''):\n",
    "            categories['General'].append(doc)\n",
    "    return categories\n",
    "\n",
    "# # Pile documents into separate lists based on the source\n",
    "# for doc in documents:\n",
    "#     source = doc.metadata['source']\n",
    "#     if 'IFF' in source:\n",
    "#         categories['IFF'].append(doc)\n",
    "#     elif 'UC Irvine' in source:\n",
    "#         categories['UC Irvine'].append(doc)\n",
    "#     elif 'Roblox' in source:\n",
    "#         categories['Roblox'].append(doc)\n",
    "#     elif 'University of Rochester' in source:\n",
    "#         categories['University of Rochester'].append(doc)\n",
    "#     elif 'General' in source:\n",
    "#         categories['General'].append(doc)"
   ]
  },
  {
   "cell_type": "code",
   "execution_count": 566,
   "metadata": {},
   "outputs": [],
   "source": [
    "all_raw_docs = loaded_data + image_summaries\n",
    "\n",
    "categorized_vector_docs = categorize_documents(all_raw_docs)"
   ]
  },
  {
   "cell_type": "code",
   "execution_count": 567,
   "metadata": {},
   "outputs": [],
   "source": [
    "categorized_summary_docs = categorize_documents(whole_doc_summaries)"
   ]
  },
  {
   "cell_type": "code",
   "execution_count": 568,
   "metadata": {},
   "outputs": [
    {
     "data": {
      "text/plain": [
       "dict_keys(['IFF', 'UC Irvine', 'Roblox', 'University of Rochester', 'General'])"
      ]
     },
     "execution_count": 568,
     "metadata": {},
     "output_type": "execute_result"
    }
   ],
   "source": [
    "categorized_summary_docs.keys()"
   ]
  },
  {
   "cell_type": "markdown",
   "metadata": {},
   "source": [
    "# ChromaDB and parent document retriever\n",
    "The vector stores are persisted when the retrievers are initiated"
   ]
  },
  {
   "cell_type": "code",
   "execution_count": 569,
   "metadata": {},
   "outputs": [],
   "source": [
    "from langchain.retrievers import ParentDocumentRetriever\n",
    "\n",
    "#from langchain.storage import InMemoryStore\n",
    "from langchain_chroma import Chroma\n",
    "from langchain_community.vectorstores import FAISS\n",
    "from langchain_openai import OpenAIEmbeddings\n",
    "from langchain_text_splitters import RecursiveCharacterTextSplitter\n",
    "\n",
    "from langchain.storage import LocalFileStore\n",
    "from langchain.storage._lc_store import create_kv_docstore\n",
    "from faiss import IndexFlatL2\n",
    "from langchain_community.docstore.in_memory import InMemoryDocstore\n",
    "\n",
    "from langchain_community.vectorstores.utils import DistanceStrategy\n",
    "\n",
    "from tqdm import tqdm"
   ]
  },
  {
   "cell_type": "code",
   "execution_count": 570,
   "metadata": {},
   "outputs": [],
   "source": [
    "import pickle"
   ]
  },
  {
   "cell_type": "code",
   "execution_count": 571,
   "metadata": {},
   "outputs": [],
   "source": [
    "# # Save the variables to a file\n",
    "# with open('categorized_vector_docs.pkl', 'wb') as file:\n",
    "#     pickle.dump(categorized_vector_docs, file)\n",
    "\n",
    "# with open('categorized_summary_docs.pkl', 'wb') as file:\n",
    "#     pickle.dump(categorized_summary_docs, file)"
   ]
  },
  {
   "cell_type": "code",
   "execution_count": 572,
   "metadata": {},
   "outputs": [],
   "source": [
    "# # Load the variables from the file\n",
    "# with open('categorized_vector_docs.pkl', 'rb') as file:\n",
    "#     categorized_vector_docs = pickle.load(file)\n",
    "\n",
    "# with open('categorized_summary_docs.pkl', 'rb') as file:\n",
    "#     categorized_summary_docs = pickle.load(file)"
   ]
  },
  {
   "cell_type": "code",
   "execution_count": 573,
   "metadata": {},
   "outputs": [],
   "source": [
    "# Instantiate the OpenAIEmbeddings class\n",
    "openai_embeddings = OpenAIEmbeddings(api_key=api_key)\n",
    "# This text splitter is used to create the parent documents\n",
    "parent_splitter = RecursiveCharacterTextSplitter(chunk_size=2000)\n",
    "# This text splitter is used to create the child documents\n",
    "# It should create documents smaller than the parent\n",
    "child_splitter = RecursiveCharacterTextSplitter(chunk_size=400)"
   ]
  },
  {
   "cell_type": "code",
   "execution_count": 574,
   "metadata": {},
   "outputs": [],
   "source": [
    "# # Create a function to initialize the vector store and document store for each category\n",
    "# def create_chunk_indices(category_name, documents):\n",
    "\n",
    "#     category_name = category_name.replace(\" \", \"_\").lower()\n",
    "    \n",
    "#     # # Ensure directory exists\n",
    "#     # os.makedirs(f\"./indices/chunks/chunk_vectorstore_{category_name}\", exist_ok=True)\n",
    "#     # os.makedirs(f\"./indices/chunks/chunk_docstore_{category_name}\", exist_ok=True)\n",
    "\n",
    "#     # # Initialize the vectorstore\n",
    "#     # vectorstore = Chroma(\n",
    "#     #     collection_name=f\"split_parents_{category_name}\",\n",
    "#     #     embedding_function=openai_embeddings,\n",
    "#     #     persist_directory=f\"./indices/chunks/chunk_vectorstore_{category_name}\",\n",
    "#     #     collection_metadata={\"hnsw:space\": \"cosine\"}\n",
    "#     # )\n",
    "\n",
    "#     vectorstore = FAISS(\n",
    "#         embedding_function=openai_embeddings,\n",
    "#         index=IndexFlatL2(1536),\n",
    "#         docstore=InMemoryDocstore(),\n",
    "#         index_to_docstore_id={},\n",
    "#         distance_strategy=DistanceStrategy.EUCLIDEAN_DISTANCE\n",
    "#     )\n",
    "    \n",
    "#     # Initialize the document store\n",
    "#     fs = LocalFileStore(f\"./indices/chunks/chunk_docstore_{category_name}\")\n",
    "#     store = create_kv_docstore(fs)\n",
    "    \n",
    "#     # Initialize the ParentDocumentRetriever\n",
    "#     chunk_retriever = ParentDocumentRetriever(\n",
    "#         vectorstore=vectorstore,\n",
    "#         docstore=store,\n",
    "#         child_splitter=child_splitter,\n",
    "#         parent_splitter=parent_splitter,\n",
    "#         search_type=\"similarity\",\n",
    "#         search_kwargs={'score_threshold': 0.5, \"k\" : 4}, # filtering for docs with similarity score < 0.4\n",
    "#     )\n",
    "    \n",
    "#     # Add documents to the retriever. This will create the vectorstore and docstore\n",
    "#     chunk_retriever.add_documents(documents)\n",
    "    \n",
    "#     # For FAISS only\n",
    "#     vectorstore.save_local(f\"./indices/chunks/chunk_vectorstore_{category_name}\")\n",
    "\n",
    "#     return chunk_retriever\n",
    "\n",
    "# def load_chunk_retriever(category_name):\n",
    "\n",
    "#     category_name = category_name.replace(\" \", \"_\").lower()\n",
    "\n",
    "#     vectorstore = FAISS.load_local(f\"./indices/chunks/chunk_vectorstore_{category_name}\", \n",
    "#                                     openai_embeddings,\n",
    "#                                     allow_dangerous_deserialization=True)\n",
    "    \n",
    "#     fs = LocalFileStore(f\"./indices/chunks/chunk_docstore_{category_name}\")\n",
    "#     store = create_kv_docstore(fs)\n",
    "    \n",
    "#     chunk_retriever = ParentDocumentRetriever(\n",
    "#         vectorstore=vectorstore,\n",
    "#         docstore=store,\n",
    "#         child_splitter=child_splitter,\n",
    "#         parent_splitter=parent_splitter,\n",
    "#         search_type=\"similarity\",\n",
    "#         search_kwargs={'score_threshold': 0.5, 'k': 2}, # filtering for docs with similarity score < 0.5\n",
    "#     )\n",
    "\n",
    "#     ###\n",
    "#     # add documents to the retriever\n",
    "#     chunk_retriever.add_documents(documents)\n",
    "#     vectorstore.save_local(f\"./indices/chunks/chunk_vectorstore_{category_name}\")\n",
    "#     ###\n",
    "    \n",
    "#     return chunk_retriever\n",
    "\n",
    "# def create_summary_indices(category_name, documents):\n",
    "#     category_name = category_name.replace(\" \", \"_\").lower()\n",
    "#     # Chroma.from_documents(documents=documents, \n",
    "#     #                     embedding=openai_embeddings, \n",
    "#     #                     collection_name=f\"whole_doc_summary_vectorstore_{category_name}\",\n",
    "#     #                     persist_directory=f\"./indices/summaries/whole_doc_summary_vectorstore_{category_name}\",\n",
    "#     #                     collection_metadata={\"hnsw:space\": \"cosine\"})\n",
    "#     summary_store = FAISS.from_documents(documents=documents, embedding=openai_embeddings, distance_strategy=DistanceStrategy.EUCLIDEAN_DISTANCE)\n",
    "#     summary_store.save_local(f\"./indices/summaries/whole_doc_summary_vectorstore_{category_name}\")\n",
    "\n",
    "# def load_summary_store(category_name, documents):\n",
    "\n",
    "#     category_name = category_name.replace(\" \", \"_\").lower()\n",
    "\n",
    "#     # Load the vector store\n",
    "#     whole_doc_summary_vectorstore = FAISS.load_local(\n",
    "#         f\"./indices/summaries/whole_doc_summary_vectorstore_{category_name}\", \n",
    "#         openai_embeddings,\n",
    "#         allow_dangerous_deserialization=True\n",
    "#     )\n",
    "\n",
    "#     whole_doc_summary_vectorstore.add_documents(documents)\n",
    "\n",
    "#     whole_doc_summary_vectorstore.save_local(f\"./indices/summaries/whole_doc_summary_vectorstore_{category_name}\")\n",
    "\n",
    "#     return whole_doc_summary_vectorstore"
   ]
  },
  {
   "cell_type": "code",
   "execution_count": 575,
   "metadata": {},
   "outputs": [],
   "source": [
    "# Create or update chunk indices\n",
    "def create_or_update_chunk_indices(category_name, documents):\n",
    "    category_name = category_name.replace(\" \", \"_\").lower()\n",
    "    vectorstore_path = f\"./indices/chunks/chunk_vectorstore_{category_name}\"\n",
    "    docstore_path = f\"./indices/chunks/chunk_docstore_{category_name}\"\n",
    "\n",
    "    if os.path.exists(vectorstore_path):\n",
    "        print(f\"Loading existing vector store for category: {category_name}\")\n",
    "        # Load existing vector store\n",
    "        vectorstore = FAISS.load_local(vectorstore_path, openai_embeddings, allow_dangerous_deserialization=True)\n",
    "        fs = LocalFileStore(docstore_path)\n",
    "        store = create_kv_docstore(fs)\n",
    "        chunk_retriever = ParentDocumentRetriever(\n",
    "            vectorstore=vectorstore,\n",
    "            docstore=store,\n",
    "            child_splitter=child_splitter,\n",
    "            parent_splitter=parent_splitter,\n",
    "            search_type=\"similarity\",\n",
    "            search_kwargs={'score_threshold': 0.5, 'k': 4}\n",
    "        )\n",
    "    else:\n",
    "        print(f\"Creating new vector store for category: {category_name}\")\n",
    "        # Create new vector store and document store\n",
    "        vectorstore = FAISS(\n",
    "            embedding_function=openai_embeddings,\n",
    "            index=IndexFlatL2(1536),\n",
    "            docstore=InMemoryDocstore(),\n",
    "            index_to_docstore_id={},\n",
    "            distance_strategy=DistanceStrategy.EUCLIDEAN_DISTANCE\n",
    "        )\n",
    "        fs = LocalFileStore(docstore_path)\n",
    "        store = create_kv_docstore(fs)\n",
    "        chunk_retriever = ParentDocumentRetriever(\n",
    "            vectorstore=vectorstore,\n",
    "            docstore=store,\n",
    "            child_splitter=child_splitter,\n",
    "            parent_splitter=parent_splitter,\n",
    "            search_type=\"similarity\",\n",
    "            search_kwargs={'score_threshold': 0.5, 'k': 4}\n",
    "        )\n",
    "\n",
    "    # Add documents to the retriever\n",
    "    print(f\"Adding documents to vector store for category: {category_name}\")\n",
    "    chunk_retriever.add_documents(documents)\n",
    "    vectorstore.save_local(vectorstore_path)\n",
    "    print(f\"Saved vector store for category: {category_name}\")\n",
    "\n",
    "# Create or update summary indices\n",
    "def create_or_update_summary_indices(category_name, documents):\n",
    "    category_name = category_name.replace(\" \", \"_\").lower()\n",
    "    summary_store_path = f\"./indices/summaries/whole_doc_summary_vectorstore_{category_name}\"\n",
    "\n",
    "    if os.path.exists(summary_store_path):\n",
    "        print(f\"Loading existing summary store for category: {category_name}\")\n",
    "        # Load existing vector store\n",
    "        summary_store = FAISS.load_local(summary_store_path, openai_embeddings, allow_dangerous_deserialization=True)\n",
    "    else:\n",
    "        print(f\"Creating new summary store for category: {category_name}\")\n",
    "        # Create new vector store\n",
    "        summary_store = FAISS(\n",
    "            embedding_function=openai_embeddings,\n",
    "            index=IndexFlatL2(1536),\n",
    "            docstore=InMemoryDocstore(),\n",
    "            index_to_docstore_id={},\n",
    "            distance_strategy=DistanceStrategy.EUCLIDEAN_DISTANCE\n",
    "        )\n",
    "\n",
    "    # Add documents to the vector store\n",
    "    print(f\"Adding documents to summary store for category: {category_name}\")\n",
    "    summary_store.add_documents(documents)\n",
    "    summary_store.save_local(summary_store_path)\n",
    "    print(f\"Saved summary store for category: {category_name}\")"
   ]
  },
  {
   "cell_type": "code",
   "execution_count": 576,
   "metadata": {},
   "outputs": [
    {
     "name": "stderr",
     "output_type": "stream",
     "text": [
      "  0%|          | 0/5 [00:00<?, ?it/s]"
     ]
    },
    {
     "name": "stdout",
     "output_type": "stream",
     "text": [
      "Creating new vector store for category: general\n",
      "Adding documents to vector store for category: general\n"
     ]
    },
    {
     "name": "stderr",
     "output_type": "stream",
     "text": [
      "100%|██████████| 5/5 [00:00<00:00,  6.76it/s]"
     ]
    },
    {
     "name": "stdout",
     "output_type": "stream",
     "text": [
      "Saved vector store for category: general\n"
     ]
    },
    {
     "name": "stderr",
     "output_type": "stream",
     "text": [
      "\n"
     ]
    }
   ],
   "source": [
    "# Loop through each category and update/create vector and summary stores\n",
    "for category, docs in tqdm(categorized_vector_docs.items()):\n",
    "    if docs:  # Proceed only if there are documents to add\n",
    "        create_or_update_chunk_indices(category, docs)"
   ]
  },
  {
   "cell_type": "code",
   "execution_count": 577,
   "metadata": {},
   "outputs": [
    {
     "name": "stderr",
     "output_type": "stream",
     "text": [
      "100%|██████████| 5/5 [00:00<00:00, 45.30it/s]"
     ]
    },
    {
     "name": "stdout",
     "output_type": "stream",
     "text": [
      "Creating new summary store for category: general\n",
      "Adding documents to summary store for category: general\n",
      "Saved summary store for category: general\n"
     ]
    },
    {
     "name": "stderr",
     "output_type": "stream",
     "text": [
      "\n"
     ]
    }
   ],
   "source": [
    "for category, docs in tqdm(categorized_summary_docs.items()):\n",
    "    if docs:  # Proceed only if there are documents to add\n",
    "        create_or_update_summary_indices(category, docs)"
   ]
  },
  {
   "cell_type": "code",
   "execution_count": null,
   "metadata": {},
   "outputs": [],
   "source": []
  }
 ],
 "metadata": {
  "kernelspec": {
   "display_name": "streamlit_gpt",
   "language": "python",
   "name": "python3"
  },
  "language_info": {
   "codemirror_mode": {
    "name": "ipython",
    "version": 3
   },
   "file_extension": ".py",
   "mimetype": "text/x-python",
   "name": "python",
   "nbconvert_exporter": "python",
   "pygments_lexer": "ipython3",
   "version": "3.8.13"
  }
 },
 "nbformat": 4,
 "nbformat_minor": 2
}
